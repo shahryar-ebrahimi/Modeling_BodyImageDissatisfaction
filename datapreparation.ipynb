{
 "cells": [
  {
   "cell_type": "code",
   "execution_count": 11,
   "id": "ae085de1",
   "metadata": {},
   "outputs": [
    {
     "name": "stdout",
     "output_type": "stream",
     "text": [
      "Data reading is in progress .... \n",
      "Data reading is completed.\n",
      "New dataset is now available!\n"
     ]
    }
   ],
   "source": [
    "import pandas as pd\n",
    "\n",
    "# Read the original dataset\n",
    "print(\"Data reading is in progress .... \")\n",
    "data = pd.read_csv(\"data.csv\")\n",
    "print(\"Data reading is completed.\")\n",
    "\n",
    "# Extract variables of interest\n",
    "subdata = data[['DHH_SEX', 'DHHGAGE', 'HWTDGHTM', 'HWTDGWTK', 'HWTDGCOR', 'CCC_095', 'CCC_195', 'CCCDVDIA', 'SLP_010', 'FVCDVTOT', 'FVCDVGDT', 'FDCDVCAH', 'ALCDVTTM', 'PAADVWHO', 'DIA_040', 'FSCDVAFS', 'FSCDVCFS', 'FSCDVHFS', 'FSCDVHF2']]\n",
    "\n",
    "# Rename the variables\n",
    "subdata.columns = ['sex', 'age', 'height', 'weight', 'BMIadj', 'hasDiabetes', 'hasMoodDisorder', 'diabetesType', 'sleepTrouble', 'fruitsVegetablesCons', 'fruitsVegetablesConsGrouped', 'choosesAvoidesFood', 'drinkerType', 'physicallyActiveWHO', 'nutritionTherapy', 'foodSecurityAdulthood', 'foodSecurityChildhood', 'foodSecurityHousehold-modified', 'foodSecurityHousehold-includingMarginally']\n",
    "\n",
    "# Filter rows where 'hasDiabetes' is 1\n",
    "subdata = subdata[subdata['hasDiabetes'] == 1]\n",
    "\n",
    "# Filter rows where 'diabetesType' is 1\n",
    "subdata = subdata[subdata['diabetesType'] == 1]\n",
    "\n",
    "\n",
    "# Save the extracted data to a new CSV file\n",
    "subdata.to_csv(\"subdata.csv\", index=False)\n",
    "\n",
    "print(\"New dataset is now available!\")\n"
   ]
  },
  {
   "cell_type": "code",
   "execution_count": null,
   "id": "29df31fb",
   "metadata": {},
   "outputs": [],
   "source": []
  },
  {
   "cell_type": "code",
   "execution_count": null,
   "id": "b3f2884d",
   "metadata": {},
   "outputs": [],
   "source": []
  }
 ],
 "metadata": {
  "kernelspec": {
   "display_name": "Python 3 (ipykernel)",
   "language": "python",
   "name": "python3"
  },
  "language_info": {
   "codemirror_mode": {
    "name": "ipython",
    "version": 3
   },
   "file_extension": ".py",
   "mimetype": "text/x-python",
   "name": "python",
   "nbconvert_exporter": "python",
   "pygments_lexer": "ipython3",
   "version": "3.12.2"
  }
 },
 "nbformat": 4,
 "nbformat_minor": 5
}
